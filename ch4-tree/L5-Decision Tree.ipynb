{
 "cells": [
  {
   "cell_type": "markdown",
   "id": "29549c62-6907-46ad-8000-056b2430d402",
   "metadata": {},
   "source": [
    "### 决策树代码（使用sklearn库）"
   ]
  },
  {
   "cell_type": "code",
   "execution_count": 1,
   "id": "05ea615b-2fc6-4706-bcab-23a77f17acf2",
   "metadata": {},
   "outputs": [
    {
     "name": "stdout",
     "output_type": "stream",
     "text": [
      "0.944\n",
      "[0.14887926 0.37885514 0.4722656 ]\n",
      "[0 1 2]\n"
     ]
    }
   ],
   "source": [
    "import numpy as np\n",
    "from sklearn.datasets import make_classification as MC\n",
    "\n",
    "Nsamples = 500\n",
    "X, y = MC(n_samples=Nsamples, n_features=3, n_informative=3, n_redundant=0, n_classes=3, n_clusters_per_class=1, random_state=2024)\n",
    "\n",
    "## 默认使用Gini系数进行分类\n",
    "\n",
    "from sklearn.tree import DecisionTreeClassifier as DTC\n",
    "from sklearn.model_selection import cross_val_score as CVS\n",
    "\n",
    "dtc = DTC().fit(X, y) # 使用决策树分类器进行拟合\n",
    "print(CVS(dtc, X, y, scoring='accuracy', cv=10).mean()) # 使用十折交叉验证，计算平均精确率\n",
    "\n",
    "## 特征重要性\n",
    "print(dtc.feature_importances_) # 特征1：14.89%； 特征2：37.89%； 特征3：47.22% （最重要特征）\n",
    "\n",
    "## 排序\n",
    "print(np.argsort(dtc.feature_importances_))"
   ]
  },
  {
   "cell_type": "code",
   "execution_count": null,
   "id": "cbeaece2-c3df-4321-b44f-b8e14f3c3ffd",
   "metadata": {},
   "outputs": [],
   "source": []
  }
 ],
 "metadata": {
  "kernelspec": {
   "display_name": "Python 3 (ipykernel)",
   "language": "python",
   "name": "python3"
  },
  "language_info": {
   "codemirror_mode": {
    "name": "ipython",
    "version": 3
   },
   "file_extension": ".py",
   "mimetype": "text/x-python",
   "name": "python",
   "nbconvert_exporter": "python",
   "pygments_lexer": "ipython3",
   "version": "3.9.18"
  }
 },
 "nbformat": 4,
 "nbformat_minor": 5
}
