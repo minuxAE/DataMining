{
 "cells": [
  {
   "cell_type": "code",
   "execution_count": 2,
   "metadata": {},
   "outputs": [
    {
     "name": "stdout",
     "output_type": "stream",
     "text": [
      "[58, 33, 63, 35, 94]\n",
      "[58, 33, 63, 35, 94]\n"
     ]
    }
   ],
   "source": [
    "symbols=':!?#^'\n",
    "lst1 = [ord(s) for s in symbols]\n",
    "print(lst1)\n",
    "\n",
    "lst2 = list(filter(lambda s: s> 10, map(ord, symbols)))\n",
    "print(lst2)"
   ]
  },
  {
   "cell_type": "code",
   "execution_count": 3,
   "metadata": {},
   "outputs": [
    {
     "data": {
      "text/plain": [
       "[('B', 'S'), ('B', 'M'), ('B', 'L'), ('W', 'S'), ('W', 'M'), ('W', 'L')]"
      ]
     },
     "execution_count": 3,
     "metadata": {},
     "output_type": "execute_result"
    }
   ],
   "source": [
    "# listcomps 计算笛卡尔积\n",
    "colors=['B', 'W'] # black and white\n",
    "sizes = ['S', 'M', 'L'] # small, medium, large\n",
    "ts = [(color, size) for color in colors for size in sizes]\n",
    "ts"
   ]
  },
  {
   "cell_type": "code",
   "execution_count": 6,
   "metadata": {},
   "outputs": [
    {
     "name": "stdout",
     "output_type": "stream",
     "text": [
      "B S\n",
      "B M\n",
      "B L\n",
      "W S\n",
      "W M\n",
      "W L\n"
     ]
    }
   ],
   "source": [
    "# genexps 计算笛卡尔积\n",
    "for ts in ('%s %s' % (c, s) for c in colors for s in sizes):\n",
    "    print(ts)"
   ]
  },
  {
   "cell_type": "code",
   "execution_count": 8,
   "metadata": {},
   "outputs": [
    {
     "name": "stdout",
     "output_type": "stream",
     "text": [
      "                |   lat.    |   long.  \n",
      "Tokyo           |   35.6800 |  139.6900\n",
      "Delhi NCR       |   28.6100 |   77.2100\n",
      "Mexico City     |   19.4300 |  -99.1300\n",
      "New York-Newark |   40.8000 |  -74.0200\n",
      "Sao Paulo       |  -23.5500 |  -46.6400\n"
     ]
    }
   ],
   "source": [
    "# 嵌套tuple拆包\n",
    "areas = [\n",
    "    ('Tokyo', 'JP', 36.93, (35.68, 139.69)),\n",
    "    ('Delhi NCR', 'IN', 21.94, (28.61, 77.21)),\n",
    "    ('Mexico City', 'MX', 20.14, (19.43, -99.13)),\n",
    "    ('New York-Newark', 'US', 20.10, (40.80, -74.02)),\n",
    "    ('Sao Paulo', 'BR', 19.65, (-23.55, -46.64))\n",
    "]\n",
    "\n",
    "print('{:15} | {:^9} | {:^9}'.format('', 'lat.', 'long.'))\n",
    "fmt = '{:15} | {:9.4f} | {:9.4f}'\n",
    "for name, _, _, (lat, long) in areas:\n",
    "    print(fmt.format(name, lat, long))"
   ]
  },
  {
   "cell_type": "code",
   "execution_count": 11,
   "metadata": {},
   "outputs": [
    {
     "name": "stdout",
     "output_type": "stream",
     "text": [
      "City(name='Shanghai', country='CN', population=24.75, coordinates=(31.11, 121.29))\n",
      "24.75\n",
      "(31.11, 121.29)\n"
     ]
    }
   ],
   "source": [
    "from collections import namedtuple\n",
    "City = namedtuple('City', 'name country population coordinates') # 声明一个名字为City的具名元组，需要4个字段作为构造函数\n",
    "Shanghai = City('Shanghai', 'CN', 24.75, (31.11, 121.29))\n",
    "print(Shanghai) # 输出全部信息\n",
    "print(Shanghai.population) # 输出人口信息\n",
    "print(Shanghai.coordinates) # 输出经纬度信息"
   ]
  },
  {
   "cell_type": "code",
   "execution_count": 12,
   "metadata": {},
   "outputs": [
    {
     "name": "stdout",
     "output_type": "stream",
     "text": [
      "Array ->  3  9 13 16 17 23 23 27 30 39 39 41 44 47 50 50 58 68 69 74 79 80 82 82 84 90 90 91 92 101\n",
      "31 @  9    ^ ^ ^ ^ ^ ^ ^ ^ ^31\n",
      "29 @  8    ^ ^ ^ ^ ^ ^ ^ ^29\n",
      "28 @  8    ^ ^ ^ ^ ^ ^ ^ ^28\n",
      "26 @  7    ^ ^ ^ ^ ^ ^ ^26\n",
      "26 @  7    ^ ^ ^ ^ ^ ^ ^26\n",
      "18 @  5    ^ ^ ^ ^ ^18\n",
      "18 @  5    ^ ^ ^ ^ ^18\n",
      "17 @  5    ^ ^ ^ ^ ^17\n",
      "16 @  4    ^ ^ ^ ^16\n",
      "16 @  4    ^ ^ ^ ^16\n",
      "15 @  3    ^ ^ ^15\n",
      "15 @  3    ^ ^ ^15\n",
      "11 @  2    ^ ^11\n",
      " 7 @  1    ^7 \n",
      " 5 @  1    ^5 \n",
      " 4 @  1    ^4 \n",
      " 3 @  1    ^3 \n",
      " 3 @  1    ^3 \n",
      " 2 @  0   2 \n",
      " 1 @  0   1 \n"
     ]
    }
   ],
   "source": [
    "# bisect 和 bisect_left\n",
    "# bisect插入位置是相同元素之后，相当于bisect_right\n",
    "# bisect_left插入位置是相同元素之前\n",
    "\n",
    "import bisect\n",
    "import sys\n",
    "from random import randint\n",
    "import random\n",
    "\n",
    "random.seed(2023)\n",
    "\n",
    "arr = sorted([randint(1, 101) for _ in range(30)]) # 生成有序的原始序列\n",
    "vals = sorted([randint(1, 31) for _ in range(20)]) # 待插入序列\n",
    "\n",
    "ROW_FORMAT = '{0:2d} @ {1:2d}   {2}{0:<2d}'\n",
    "\n",
    "def func(bi_func):\n",
    "    for val in reversed(vals): # 使用逆序插入\n",
    "        pos = bi_func(arr, val)\n",
    "        off = pos * ' ^'\n",
    "        print(ROW_FORMAT.format(val, pos, off))\n",
    "\n",
    "print('Array ->', ' '.join('%2d' % v for v in arr))\n",
    "func(bisect.bisect) # 使用bisect插入"
   ]
  },
  {
   "cell_type": "code",
   "execution_count": 13,
   "metadata": {},
   "outputs": [
    {
     "name": "stdout",
     "output_type": "stream",
     "text": [
      "Array ->  3  9 13 16 17 23 23 27 30 39 39 41 44 47 50 50 58 68 69 74 79 80 82 82 84 90 90 91 92 101\n",
      "31 @  9    ^ ^ ^ ^ ^ ^ ^ ^ ^31\n",
      "29 @  8    ^ ^ ^ ^ ^ ^ ^ ^29\n",
      "28 @  8    ^ ^ ^ ^ ^ ^ ^ ^28\n",
      "26 @  7    ^ ^ ^ ^ ^ ^ ^26\n",
      "26 @  7    ^ ^ ^ ^ ^ ^ ^26\n",
      "18 @  5    ^ ^ ^ ^ ^18\n",
      "18 @  5    ^ ^ ^ ^ ^18\n",
      "17 @  4    ^ ^ ^ ^17\n",
      "16 @  3    ^ ^ ^16\n",
      "16 @  3    ^ ^ ^16\n",
      "15 @  3    ^ ^ ^15\n",
      "15 @  3    ^ ^ ^15\n",
      "11 @  2    ^ ^11\n",
      " 7 @  1    ^7 \n",
      " 5 @  1    ^5 \n",
      " 4 @  1    ^4 \n",
      " 3 @  0   3 \n",
      " 3 @  0   3 \n",
      " 2 @  0   2 \n",
      " 1 @  0   1 \n"
     ]
    }
   ],
   "source": [
    "# 使用bisect_left插入\n",
    "print('Array ->', ' '.join('%2d' % v for v in arr))\n",
    "func(bisect.bisect_left)"
   ]
  },
  {
   "cell_type": "code",
   "execution_count": 16,
   "metadata": {},
   "outputs": [
    {
     "data": {
      "text/plain": [
       "['F', 'D', 'D', 'C', 'B', 'A']"
      ]
     },
     "execution_count": 16,
     "metadata": {},
     "output_type": "execute_result"
    }
   ],
   "source": [
    "def grade(score, bins=[60, 75, 85, 95], levels = 'FDCBA'):\n",
    "    idx = bisect.bisect(bins, score)\n",
    "    return levels[idx]\n",
    "\n",
    "[grade(score) for score in [13, 68, 71, 82, 91, 98]]"
   ]
  },
  {
   "cell_type": "code",
   "execution_count": 17,
   "metadata": {},
   "outputs": [
    {
     "name": "stdout",
     "output_type": "stream",
     "text": [
      "18 -> [18]\n",
      " 7 -> [7, 18]\n",
      "19 -> [7, 18, 19]\n",
      " 3 -> [3, 7, 18, 19]\n",
      "18 -> [3, 7, 18, 18, 19]\n",
      " 2 -> [2, 3, 7, 18, 18, 19]\n",
      " 2 -> [2, 2, 3, 7, 18, 18, 19]\n",
      " 4 -> [2, 2, 3, 4, 7, 18, 18, 19]\n",
      "12 -> [2, 2, 3, 4, 7, 12, 18, 18, 19]\n",
      "15 -> [2, 2, 3, 4, 7, 12, 15, 18, 18, 19]\n"
     ]
    }
   ],
   "source": [
    "SZ = 10\n",
    "LST = []\n",
    "for i in range(SZ):\n",
    "    element = random.randrange(SZ*2)\n",
    "    bisect.insort(LST, element)\n",
    "    print('%2d ->' % element, LST)"
   ]
  }
 ],
 "metadata": {
  "kernelspec": {
   "display_name": "Python 3 (ipykernel)",
   "language": "python",
   "name": "python3"
  },
  "language_info": {
   "codemirror_mode": {
    "name": "ipython",
    "version": 3
   },
   "file_extension": ".py",
   "mimetype": "text/x-python",
   "name": "python",
   "nbconvert_exporter": "python",
   "pygments_lexer": "ipython3",
   "version": "3.9.17"
  }
 },
 "nbformat": 4,
 "nbformat_minor": 2
}
