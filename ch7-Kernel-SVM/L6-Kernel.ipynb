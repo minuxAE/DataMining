{
 "cells": [
  {
   "cell_type": "markdown",
   "id": "a2432288-6977-4712-946d-491327665ddf",
   "metadata": {},
   "source": [
    "### 核方法\n",
    "线性和二次核计算代码"
   ]
  },
  {
   "cell_type": "code",
   "execution_count": 13,
   "id": "0167f5e6-2e77-4fa5-9b9e-6d9dd5bd2e24",
   "metadata": {},
   "outputs": [
    {
     "data": {
      "image/png": "[encoded data removed]",
      "text/plain": [
       "<Figure size 640x480 with 1 Axes>"
      ]
     },
     "metadata": {},
     "output_type": "display_data"
    }
   ],
   "source": [
    "import numpy as np\n",
    "import matplotlib.pyplot as plt\n",
    "\n",
    "# iris数据集的样本点\n",
    "x1 = np.array([5.9, 3])\n",
    "x2 = np.array([6.9, 3.1])\n",
    "x3 = np.array([6.5, 2.9])\n",
    "x4 = np.array([4.6, 3.2])\n",
    "x5 = np.array([6, 2.2])\n",
    "\n",
    "## 绘制数据点\n",
    "plt.scatter(x1[0], x1[1], label='x1')\n",
    "plt.scatter(x2[0], x2[1], label='x2')\n",
    "plt.scatter(x3[0], x3[1], label='x3')\n",
    "plt.scatter(x4[0], x4[1], label='x4')\n",
    "plt.scatter(x5[0], x5[1], label='x5')\n",
    "\n",
    "plt.legend()\n",
    "plt.show()"
   ]
  },
  {
   "cell_type": "code",
   "execution_count": 12,
   "id": "29f6f111-8a68-4234-9897-c2c937a74f77",
   "metadata": {},
   "outputs": [
    {
     "name": "stdout",
     "output_type": "stream",
     "text": [
      "[[43.81 50.01 47.05 36.74 42.  ]\n",
      " [50.01 57.22 53.84 41.66 48.22]\n",
      " [47.05 53.84 50.66 39.18 45.38]\n",
      " [36.74 41.66 39.18 31.4  34.64]\n",
      " [42.   48.22 45.38 34.64 40.84]]\n"
     ]
    }
   ],
   "source": [
    "## 计算核矩阵\n",
    "n = 5\n",
    "K = np.zeros((n, n))\n",
    "\n",
    "X = np.array([x1, x2, x3, x4, x5])\n",
    "Y = np.array([x1, x2, x3, x4, x5])\n",
    "\n",
    "for i in range(n):\n",
    "    for j in range(n):\n",
    "        K[i,j] = X[i]@Y[j] # 线性核 \n",
    "\n",
    "print(K)"
   ]
  },
  {
   "cell_type": "code",
   "execution_count": 15,
   "id": "bd9c8228-dbf2-495e-b83a-f9a4202c9cdd",
   "metadata": {},
   "outputs": [
    {
     "name": "stdout",
     "output_type": "stream",
     "text": [
      "特征空间中的点乘值: 2501.0001\n",
      "二次核函数计算: 2501.0001\n"
     ]
    }
   ],
   "source": [
    "## 二次核\n",
    "## 非线性映射函数\n",
    "def phi(x):\n",
    "    return np.array([x[0]**2, x[1]**2, np.sqrt(2)*x[0]*x[1]])\n",
    "\n",
    "## 二次核函数\n",
    "def K(x, y):\n",
    "    return (x.T@y)**2  # K(x, y)=(x'y)^2\n",
    "\n",
    "print('特征空间中的点乘值: {:.4f}'.format(phi(x1)@phi(x2)))\n",
    "print('二次核函数计算: {:.4f}'.format(K(x1, x2)))"
   ]
  },
  {
   "cell_type": "code",
   "execution_count": 20,
   "id": "93885956-494b-4930-96f2-d8921e28cf32",
   "metadata": {},
   "outputs": [
    {
     "name": "stdout",
     "output_type": "stream",
     "text": [
      "均值向量的二范数的平方：44.0548\n"
     ]
    }
   ],
   "source": [
    "## 特征空间中的点乘操作可以转换为核矩阵上的操作\n",
    "## 计算5个点在特征空间的二范数的平方\n",
    "## 考虑线性映射\n",
    "def get_mu():\n",
    "    mu = np.zeros([1, 2])\n",
    "    for x in X:\n",
    "        mu += x\n",
    "    return mu / 5\n",
    "\n",
    "mu = get_mu()\n",
    "print('均值向量的二范数的平方：{:.4f}'.format(np.linalg.norm(mu)**2))"
   ]
  },
  {
   "cell_type": "code",
   "execution_count": 23,
   "id": "66372194-85ae-4097-b743-5ddec119dcab",
   "metadata": {},
   "outputs": [
    {
     "data": {
      "text/plain": [
       "44.05479999999999"
      ]
     },
     "execution_count": 23,
     "metadata": {},
     "output_type": "execute_result"
    }
   ],
   "source": [
    "## 使用核矩阵计算\n",
    "\n",
    "## 线性核矩阵\n",
    "n = 5\n",
    "K = np.zeros((n, n))\n",
    "\n",
    "X = np.array([x1, x2, x3, x4, x5])\n",
    "Y = np.array([x1, x2, x3, x4, x5])\n",
    "\n",
    "for i in range(n):\n",
    "    for j in range(n):\n",
    "        K[i,j] = X[i]@Y[j] # 线性核 \n",
    "    \n",
    "\n",
    "def get_mu_from_K():\n",
    "    return np.mean(K)\n",
    "\n",
    "get_mu_from_K()"
   ]
  },
  {
   "cell_type": "markdown",
   "id": "e9861a05-5185-4a2c-a1d7-fc726167df79",
   "metadata": {},
   "source": [
    "Mercer核"
   ]
  },
  {
   "cell_type": "code",
   "execution_count": 28,
   "id": "2bba689b-6c68-4888-afd6-23ef5fc41c2c",
   "metadata": {},
   "outputs": [
    {
     "data": {
      "text/plain": [
       "(array([ 2.22658531e+02,  1.27146891e+00, -1.03039603e-14,  1.23273335e-14,\n",
       "         3.61389607e-15]),\n",
       " array([[-0.44341882,  0.15570008,  0.47403702,  0.1156957 ,  0.21224146],\n",
       "        [-0.50681878, -0.14505866,  0.25679048, -0.82595649,  0.52101292],\n",
       "        [-0.47685405, -0.15289967,  0.23486088,  0.48688169, -0.8192631 ],\n",
       "        [-0.37049617,  0.81098449, -0.43898216,  0.0809081 , -0.03387673],\n",
       "        [-0.42644727, -0.52310737, -0.67932509,  0.24659782,  0.10563823]]))"
      ]
     },
     "execution_count": 28,
     "metadata": {},
     "output_type": "execute_result"
    }
   ],
   "source": [
    "## 将核矩阵K进行特征值分解\n",
    "np.linalg.eig(K)"
   ]
  },
  {
   "cell_type": "code",
   "execution_count": 29,
   "id": "462b77f8-8ef5-41f8-8a2d-4ddc5368c79f",
   "metadata": {},
   "outputs": [],
   "source": [
    "# 特征值：lambda1: 222.66 lambda2: 1.27 lambda3=lambda4=lambda5=0\n",
    "Lam = np.array([\n",
    "    [222.65, 0],\n",
    "    [0, 1.27]\n",
    "])\n",
    "\n",
    "# 特征向量 非零特征值对应的特征向量为u1和u2, 即前两列\n",
    "U = np.array([\n",
    "    [-0.443, 0.156], \n",
    "    [-0.507, -0.145],\n",
    "    [-0.477, -0.153],\n",
    "    [-0.370, 0.811],\n",
    "    [-0.426, -0.523]\n",
    "])\n",
    "\n",
    "s_Lam = np.sqrt(Lam)\n",
    "\n",
    "# 确定Mercer核\n",
    "phi_x_1 = s_Lam@U[0,:]\n",
    "phi_x_2 = s_Lam@U[1,:]"
   ]
  },
  {
   "cell_type": "code",
   "execution_count": 32,
   "id": "f0788bf8-ba1b-44f3-b789-afb40f675f6b",
   "metadata": {},
   "outputs": [
    {
     "data": {
      "text/plain": [
       "49.97868525"
      ]
     },
     "execution_count": 32,
     "metadata": {},
     "output_type": "execute_result"
    }
   ],
   "source": [
    "# 计算点乘\n",
    "phi_x_1@phi_x_2"
   ]
  },
  {
   "cell_type": "code",
   "execution_count": 33,
   "id": "a3591d22-6c0a-447e-aad4-48809647b6c4",
   "metadata": {},
   "outputs": [
    {
     "data": {
      "text/plain": [
       "array([[43.81, 50.01, 47.05, 36.74, 42.  ],\n",
       "       [50.01, 57.22, 53.84, 41.66, 48.22],\n",
       "       [47.05, 53.84, 50.66, 39.18, 45.38],\n",
       "       [36.74, 41.66, 39.18, 31.4 , 34.64],\n",
       "       [42.  , 48.22, 45.38, 34.64, 40.84]])"
      ]
     },
     "execution_count": 33,
     "metadata": {},
     "output_type": "execute_result"
    }
   ],
   "source": [
    "K # K(x1, x2)=50.01 很接近 49.97"
   ]
  },
  {
   "cell_type": "code",
   "execution_count": null,
   "id": "3ca4ef1d-dec8-41b1-a290-271a71fe96de",
   "metadata": {},
   "outputs": [],
   "source": []
  }
 ],
 "metadata": {
  "kernelspec": {
   "display_name": "Python 3 (ipykernel)",
   "language": "python",
   "name": "python3"
  },
  "language_info": {
   "codemirror_mode": {
    "name": "ipython",
    "version": 3
   },
   "file_extension": ".py",
   "mimetype": "text/x-python",
   "name": "python",
   "nbconvert_exporter": "python",
   "pygments_lexer": "ipython3",
   "version": "3.8.18"
  }
 },
 "nbformat": 4,
 "nbformat_minor": 5
}
