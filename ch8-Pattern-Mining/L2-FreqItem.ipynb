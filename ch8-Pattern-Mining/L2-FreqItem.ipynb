{
 "cells": [
  {
   "cell_type": "markdown",
   "id": "995cca8f",
   "metadata": {},
   "source": [
    "### 数学基础(2)\n",
    "计算标准正态分布的概率质量，对于距离均值k个标准差的概率质量，考察$k=1,2,3$."
   ]
  },
  {
   "cell_type": "code",
   "execution_count": 1,
   "id": "d7c4371f",
   "metadata": {},
   "outputs": [
    {
     "name": "stdout",
     "output_type": "stream",
     "text": [
      "k=1, Integration method is 0.6827, ERF method is 0.6827\n",
      "k=2, Integration method is 0.9545, ERF method is 0.9545\n",
      "k=3, Integration method is 0.9973, ERF method is 0.9973\n"
     ]
    }
   ],
   "source": [
    "import numpy as np\n",
    "from scipy.special import erf\n",
    "from scipy.integrate import quad\n",
    "\n",
    "def PM_Gauss(k):\n",
    "    def f(x):\n",
    "        return np.exp(-x**2)*2/np.sqrt(np.pi)\n",
    "    \n",
    "    pm1,_ = quad(f, 0, k/np.sqrt(2)) # 积分方法计算概率\n",
    "    pm2 = erf(k/np.sqrt(2)) # 直接用erf函数得到概率\n",
    "    \n",
    "    return pm1, pm2\n",
    "\n",
    "for k in range(1, 4):\n",
    "    pm1, pm2 = PM_Gauss(k)\n",
    "    print('k={}, Integration method is {:.4f}, ERF method is {:.4f}'.format(k, pm1, pm2))\n"
   ]
  },
  {
   "cell_type": "markdown",
   "id": "8f1671ae",
   "metadata": {},
   "source": [
    "### 编程案例：iris数据"
   ]
  },
  {
   "cell_type": "code",
   "execution_count": 6,
   "id": "c0810279",
   "metadata": {},
   "outputs": [
    {
     "name": "stdout",
     "output_type": "stream",
     "text": [
      "Maha distance is 1.7020\n",
      "Euc distance is 1.1194\n",
      "Eigen Values [0.68405999 0.18394001]\n",
      "Eigen Vectors [[ 0.99693605  0.07822095]\n",
      " [-0.07822095  0.99693605]]\n"
     ]
    }
   ],
   "source": [
    "mu = np.array([5.843, 3.054]).T # 样本均值\n",
    "Sig = np.array([\n",
    "    [0.681, -0.039],\n",
    "    [-0.039, 0.187]\n",
    "]) # 样本协方差矩阵\n",
    "\n",
    "# 考虑一个样本点x2\n",
    "x2 = np.array([6.9, 3.1]).T\n",
    "\n",
    "## 计算 x2 - mu\n",
    "d = x2-mu\n",
    "## 计算马氏距离\n",
    "Md = d.T@np.linalg.inv(Sig)@d\n",
    "print('Maha distance is {:.4f}'.format(Md))\n",
    "\n",
    "## 计算欧式距离的平方\n",
    "Ed = np.linalg.norm(x2-mu)**2\n",
    "print('Euc distance is {:.4f}'.format(Ed))\n",
    "\n",
    "## 特征值分解\n",
    "e_vals, e_vecs = np.linalg.eig(Sig)\n",
    "print('Eigen Values', e_vals)\n",
    "print('Eigen Vectors', e_vecs)"
   ]
  },
  {
   "cell_type": "code",
   "execution_count": 12,
   "id": "b1be9593",
   "metadata": {},
   "outputs": [
    {
     "data": {
      "text/plain": [
       "4.486311424657892"
      ]
     },
     "execution_count": 12,
     "metadata": {},
     "output_type": "execute_result"
    }
   ],
   "source": [
    "## 在特征向量的新坐标系下的协方差矩阵为\n",
    "Lam = np.array([\n",
    "    [0.684, 0],\n",
    "    [0, 0.184]\n",
    "])\n",
    "\n",
    "## 计算新坐标系相对于原始坐标系的旋转角度\n",
    "e1 = np.array([1, 0])\n",
    "u1 = np.array([0.99693605, 0.07822095])\n",
    "c_theta = e1.T@u1\n",
    "theta = np.arccos(c_theta)*180/np.pi\n",
    "theta # 表示新的坐标系相对于原始坐标系旋转了4.5度"
   ]
  },
  {
   "cell_type": "markdown",
   "id": "86644695",
   "metadata": {},
   "source": [
    "### Apriori算法案例\n",
    "使用mlxtend库，或者手写Apriori算法进行求解"
   ]
  },
  {
   "cell_type": "code",
   "execution_count": 13,
   "id": "ef3c3fb2",
   "metadata": {},
   "outputs": [
    {
     "name": "stdout",
     "output_type": "stream",
     "text": [
      "Itemset: ('B',), Support: 0.75\n",
      "Itemset: ('A',), Support: 0.5\n",
      "Itemset: ('C',), Support: 0.75\n",
      "Itemset: ('E',), Support: 0.75\n",
      "Itemset: ('C', 'A'), Support: 0.5\n",
      "Itemset: ('C', 'B'), Support: 0.5\n",
      "Itemset: ('C', 'E'), Support: 0.5\n",
      "Itemset: ('B', 'E'), Support: 0.75\n",
      "Itemset: ('C', 'B', 'E'), Support: 0.5\n"
     ]
    }
   ],
   "source": [
    "from itertools import combinations\n",
    "\n",
    "# 事务 （案例中的数据）\n",
    "transactions = [\n",
    "    ['A', 'C', 'D'],\n",
    "    ['B', 'C', 'E'],\n",
    "    ['A', 'B', 'C', 'E'],\n",
    "    ['B', 'E']\n",
    "]\n",
    "\n",
    "# 最小支持度为0.5\n",
    "min_support = 0.5\n",
    "\n",
    "# 找到所有的不重复项\n",
    "def get_unique_items(transactions):\n",
    "    uniq_items = set()\n",
    "    for trans in transactions:\n",
    "        uniq_items.update(trans)\n",
    "    return list(uniq_items) # 转为列表返回\n",
    "\n",
    "# 产生指定长度的频繁项集\n",
    "def get_frequent_itemsets(transactions, uniq_items, length, min_support):\n",
    "    itemsets = list(combinations(uniq_items, length)) # 根据指定长度进行两两组合\n",
    "    item_cnt = {itemset: 0 for itemset in itemsets} # 初始化项集\n",
    "    \n",
    "    # 记录项集在事务中出现的次数\n",
    "    for trans in transactions:\n",
    "        for itms in itemsets:\n",
    "            if set(itms).issubset(trans): # 如果是子集，则计数+1\n",
    "                item_cnt[itms] += 1\n",
    "                \n",
    "    # 计算支持度\n",
    "    len_trans = len(transactions) # 得到 |D|, 事务的长度\n",
    "    freq_itms = {} # 记录频繁项集\n",
    "    for itms, cnt in item_cnt.items():\n",
    "        support = cnt / len_trans\n",
    "        if support >= min_support:\n",
    "            freq_itms[itms] = support\n",
    "    \n",
    "    return freq_itms\n",
    "\n",
    "# Aporiori\n",
    "def apriori(transactions, min_support):\n",
    "    uniq_items = get_unique_items(transactions)\n",
    "    \n",
    "    # 初始化, 找频繁1-项集\n",
    "    curr_l = get_frequent_itemsets(transactions, uniq_items, 1, min_support)\n",
    "    k = 2\n",
    "    all_l = [] # 记录所有频繁项集\n",
    "    all_l.append(curr_l)\n",
    "    \n",
    "    while curr_l != {}: # 如果上一层的频繁项集不为空，则开始组合并筛选出下一层的频繁项集\n",
    "        curr_itemsets = list(curr_l.keys())\n",
    "        curr_uniq_items = set(item for itemset in curr_itemsets for item in itemset) # 上一层的频繁项集\n",
    "        curr_l = get_frequent_itemsets(transactions, curr_uniq_items, k, min_support)\n",
    "        if curr_l:\n",
    "            all_l.append(curr_l)\n",
    "        k+=1\n",
    "    return all_l\n",
    "    \n",
    "# 执行算法\n",
    "freq_itemsets = apriori(transactions, min_support)\n",
    "\n",
    "for k_items in freq_itemsets:\n",
    "    for itemset, support in k_items.items():\n",
    "        print('Itemset: {}, Support: {}'.format(itemset, support))\n"
   ]
  },
  {
   "cell_type": "code",
   "execution_count": 23,
   "id": "76633ada",
   "metadata": {},
   "outputs": [
    {
     "data": {
      "text/html": [
       "<div>\n",
       "<style scoped>\n",
       "    .dataframe tbody tr th:only-of-type {\n",
       "        vertical-align: middle;\n",
       "    }\n",
       "\n",
       "    .dataframe tbody tr th {\n",
       "        vertical-align: top;\n",
       "    }\n",
       "\n",
       "    .dataframe thead th {\n",
       "        text-align: right;\n",
       "    }\n",
       "</style>\n",
       "<table border=\"1\" class=\"dataframe\">\n",
       "  <thead>\n",
       "    <tr style=\"text-align: right;\">\n",
       "      <th></th>\n",
       "      <th>A</th>\n",
       "      <th>B</th>\n",
       "      <th>C</th>\n",
       "      <th>D</th>\n",
       "      <th>E</th>\n",
       "    </tr>\n",
       "  </thead>\n",
       "  <tbody>\n",
       "    <tr>\n",
       "      <th>0</th>\n",
       "      <td>True</td>\n",
       "      <td>False</td>\n",
       "      <td>True</td>\n",
       "      <td>True</td>\n",
       "      <td>False</td>\n",
       "    </tr>\n",
       "    <tr>\n",
       "      <th>1</th>\n",
       "      <td>False</td>\n",
       "      <td>True</td>\n",
       "      <td>True</td>\n",
       "      <td>False</td>\n",
       "      <td>True</td>\n",
       "    </tr>\n",
       "    <tr>\n",
       "      <th>2</th>\n",
       "      <td>True</td>\n",
       "      <td>True</td>\n",
       "      <td>True</td>\n",
       "      <td>False</td>\n",
       "      <td>True</td>\n",
       "    </tr>\n",
       "    <tr>\n",
       "      <th>3</th>\n",
       "      <td>False</td>\n",
       "      <td>True</td>\n",
       "      <td>False</td>\n",
       "      <td>False</td>\n",
       "      <td>True</td>\n",
       "    </tr>\n",
       "  </tbody>\n",
       "</table>\n",
       "</div>"
      ],
      "text/plain": [
       "       A      B      C      D      E\n",
       "0   True  False   True   True  False\n",
       "1  False   True   True  False   True\n",
       "2   True   True   True  False   True\n",
       "3  False   True  False  False   True"
      ]
     },
     "execution_count": 23,
     "metadata": {},
     "output_type": "execute_result"
    }
   ],
   "source": [
    "# 调用mlxtend库实现\n",
    "import pandas as pd\n",
    "from mlxtend.preprocessing import TransactionEncoder as TE\n",
    "from mlxtend.frequent_patterns import apriori\n",
    "\n",
    "ts = [\n",
    "    ['A', 'C', 'D'],\n",
    "    ['B', 'C', 'E'],\n",
    "    ['A', 'B', 'C', 'E'],\n",
    "    ['B', 'E']\n",
    "]\n",
    "\n",
    "te = TE()\n",
    "te_array = te.fit(ts).transform(ts)\n",
    "df = pd.DataFrame(te_array, columns=te.columns_) # 对事务进行编码\n",
    "df"
   ]
  },
  {
   "cell_type": "code",
   "execution_count": 25,
   "id": "c3d4f639",
   "metadata": {},
   "outputs": [
    {
     "data": {
      "text/html": [
       "<div>\n",
       "<style scoped>\n",
       "    .dataframe tbody tr th:only-of-type {\n",
       "        vertical-align: middle;\n",
       "    }\n",
       "\n",
       "    .dataframe tbody tr th {\n",
       "        vertical-align: top;\n",
       "    }\n",
       "\n",
       "    .dataframe thead th {\n",
       "        text-align: right;\n",
       "    }\n",
       "</style>\n",
       "<table border=\"1\" class=\"dataframe\">\n",
       "  <thead>\n",
       "    <tr style=\"text-align: right;\">\n",
       "      <th></th>\n",
       "      <th>support</th>\n",
       "      <th>itemsets</th>\n",
       "    </tr>\n",
       "  </thead>\n",
       "  <tbody>\n",
       "    <tr>\n",
       "      <th>0</th>\n",
       "      <td>0.50</td>\n",
       "      <td>(A)</td>\n",
       "    </tr>\n",
       "    <tr>\n",
       "      <th>1</th>\n",
       "      <td>0.75</td>\n",
       "      <td>(B)</td>\n",
       "    </tr>\n",
       "    <tr>\n",
       "      <th>2</th>\n",
       "      <td>0.75</td>\n",
       "      <td>(C)</td>\n",
       "    </tr>\n",
       "    <tr>\n",
       "      <th>3</th>\n",
       "      <td>0.75</td>\n",
       "      <td>(E)</td>\n",
       "    </tr>\n",
       "    <tr>\n",
       "      <th>4</th>\n",
       "      <td>0.50</td>\n",
       "      <td>(C, A)</td>\n",
       "    </tr>\n",
       "    <tr>\n",
       "      <th>5</th>\n",
       "      <td>0.50</td>\n",
       "      <td>(C, B)</td>\n",
       "    </tr>\n",
       "    <tr>\n",
       "      <th>6</th>\n",
       "      <td>0.75</td>\n",
       "      <td>(B, E)</td>\n",
       "    </tr>\n",
       "    <tr>\n",
       "      <th>7</th>\n",
       "      <td>0.50</td>\n",
       "      <td>(C, E)</td>\n",
       "    </tr>\n",
       "    <tr>\n",
       "      <th>8</th>\n",
       "      <td>0.50</td>\n",
       "      <td>(C, B, E)</td>\n",
       "    </tr>\n",
       "  </tbody>\n",
       "</table>\n",
       "</div>"
      ],
      "text/plain": [
       "   support   itemsets\n",
       "0     0.50        (A)\n",
       "1     0.75        (B)\n",
       "2     0.75        (C)\n",
       "3     0.75        (E)\n",
       "4     0.50     (C, A)\n",
       "5     0.50     (C, B)\n",
       "6     0.75     (B, E)\n",
       "7     0.50     (C, E)\n",
       "8     0.50  (C, B, E)"
      ]
     },
     "execution_count": 25,
     "metadata": {},
     "output_type": "execute_result"
    }
   ],
   "source": [
    "apriori(df, min_support=0.5, use_colnames=True)"
   ]
  },
  {
   "cell_type": "markdown",
   "id": "c63c6da5",
   "metadata": {},
   "source": [
    "### FP-Growth算法案例"
   ]
  },
  {
   "cell_type": "code",
   "execution_count": 4,
   "id": "c76750a1",
   "metadata": {},
   "outputs": [
    {
     "data": {
      "text/html": [
       "<div>\n",
       "<style scoped>\n",
       "    .dataframe tbody tr th:only-of-type {\n",
       "        vertical-align: middle;\n",
       "    }\n",
       "\n",
       "    .dataframe tbody tr th {\n",
       "        vertical-align: top;\n",
       "    }\n",
       "\n",
       "    .dataframe thead th {\n",
       "        text-align: right;\n",
       "    }\n",
       "</style>\n",
       "<table border=\"1\" class=\"dataframe\">\n",
       "  <thead>\n",
       "    <tr style=\"text-align: right;\">\n",
       "      <th></th>\n",
       "      <th>A</th>\n",
       "      <th>B</th>\n",
       "      <th>C</th>\n",
       "      <th>D</th>\n",
       "      <th>E</th>\n",
       "    </tr>\n",
       "  </thead>\n",
       "  <tbody>\n",
       "    <tr>\n",
       "      <th>0</th>\n",
       "      <td>True</td>\n",
       "      <td>False</td>\n",
       "      <td>True</td>\n",
       "      <td>True</td>\n",
       "      <td>False</td>\n",
       "    </tr>\n",
       "    <tr>\n",
       "      <th>1</th>\n",
       "      <td>False</td>\n",
       "      <td>True</td>\n",
       "      <td>True</td>\n",
       "      <td>False</td>\n",
       "      <td>True</td>\n",
       "    </tr>\n",
       "    <tr>\n",
       "      <th>2</th>\n",
       "      <td>True</td>\n",
       "      <td>True</td>\n",
       "      <td>True</td>\n",
       "      <td>False</td>\n",
       "      <td>True</td>\n",
       "    </tr>\n",
       "    <tr>\n",
       "      <th>3</th>\n",
       "      <td>False</td>\n",
       "      <td>True</td>\n",
       "      <td>False</td>\n",
       "      <td>False</td>\n",
       "      <td>True</td>\n",
       "    </tr>\n",
       "  </tbody>\n",
       "</table>\n",
       "</div>"
      ],
      "text/plain": [
       "       A      B      C      D      E\n",
       "0   True  False   True   True  False\n",
       "1  False   True   True  False   True\n",
       "2   True   True   True  False   True\n",
       "3  False   True  False  False   True"
      ]
     },
     "execution_count": 4,
     "metadata": {},
     "output_type": "execute_result"
    }
   ],
   "source": [
    "# 调用mlxtend库，使用FP-Growth算法\n",
    "import pandas as pd\n",
    "from mlxtend.preprocessing import TransactionEncoder as TE\n",
    "\n",
    "ts = [\n",
    "    ['A', 'C', 'D'],\n",
    "    ['B', 'C', 'E'],\n",
    "    ['A', 'B', 'C', 'E'],\n",
    "    ['B', 'E']\n",
    "]\n",
    "\n",
    "te = TE()\n",
    "te_array = te.fit(ts).transform(ts) # 编码转换\n",
    "df = pd.DataFrame(te_array, columns=te.columns_)\n",
    "df"
   ]
  },
  {
   "cell_type": "code",
   "execution_count": 6,
   "id": "da147b24",
   "metadata": {},
   "outputs": [
    {
     "data": {
      "text/html": [
       "<div>\n",
       "<style scoped>\n",
       "    .dataframe tbody tr th:only-of-type {\n",
       "        vertical-align: middle;\n",
       "    }\n",
       "\n",
       "    .dataframe tbody tr th {\n",
       "        vertical-align: top;\n",
       "    }\n",
       "\n",
       "    .dataframe thead th {\n",
       "        text-align: right;\n",
       "    }\n",
       "</style>\n",
       "<table border=\"1\" class=\"dataframe\">\n",
       "  <thead>\n",
       "    <tr style=\"text-align: right;\">\n",
       "      <th></th>\n",
       "      <th>support</th>\n",
       "      <th>itemsets</th>\n",
       "    </tr>\n",
       "  </thead>\n",
       "  <tbody>\n",
       "    <tr>\n",
       "      <th>0</th>\n",
       "      <td>0.75</td>\n",
       "      <td>(C)</td>\n",
       "    </tr>\n",
       "    <tr>\n",
       "      <th>1</th>\n",
       "      <td>0.50</td>\n",
       "      <td>(A)</td>\n",
       "    </tr>\n",
       "    <tr>\n",
       "      <th>2</th>\n",
       "      <td>0.75</td>\n",
       "      <td>(E)</td>\n",
       "    </tr>\n",
       "    <tr>\n",
       "      <th>3</th>\n",
       "      <td>0.75</td>\n",
       "      <td>(B)</td>\n",
       "    </tr>\n",
       "    <tr>\n",
       "      <th>4</th>\n",
       "      <td>0.50</td>\n",
       "      <td>(E, C)</td>\n",
       "    </tr>\n",
       "    <tr>\n",
       "      <th>5</th>\n",
       "      <td>0.50</td>\n",
       "      <td>(A, C)</td>\n",
       "    </tr>\n",
       "    <tr>\n",
       "      <th>6</th>\n",
       "      <td>0.75</td>\n",
       "      <td>(B, E)</td>\n",
       "    </tr>\n",
       "    <tr>\n",
       "      <th>7</th>\n",
       "      <td>0.50</td>\n",
       "      <td>(B, C)</td>\n",
       "    </tr>\n",
       "    <tr>\n",
       "      <th>8</th>\n",
       "      <td>0.50</td>\n",
       "      <td>(B, E, C)</td>\n",
       "    </tr>\n",
       "  </tbody>\n",
       "</table>\n",
       "</div>"
      ],
      "text/plain": [
       "   support   itemsets\n",
       "0     0.75        (C)\n",
       "1     0.50        (A)\n",
       "2     0.75        (E)\n",
       "3     0.75        (B)\n",
       "4     0.50     (E, C)\n",
       "5     0.50     (A, C)\n",
       "6     0.75     (B, E)\n",
       "7     0.50     (B, C)\n",
       "8     0.50  (B, E, C)"
      ]
     },
     "execution_count": 6,
     "metadata": {},
     "output_type": "execute_result"
    }
   ],
   "source": [
    "from mlxtend.frequent_patterns import fpgrowth\n",
    "fpgrowth(df, min_support=0.5, use_colnames=True)"
   ]
  },
  {
   "cell_type": "code",
   "execution_count": 8,
   "id": "8281b96a",
   "metadata": {},
   "outputs": [
    {
     "name": "stdout",
     "output_type": "stream",
     "text": [
      "1.84 ms ± 43.9 µs per loop (mean ± std. dev. of 10 runs, 100 loops each)\n"
     ]
    }
   ],
   "source": [
    "# 对比 apriori 算法和 fpgrowth 算法的速度\n",
    "from mlxtend.frequent_patterns import apriori\n",
    "%timeit -n 100 -r 10 apriori(df, min_support=0.5)"
   ]
  },
  {
   "cell_type": "code",
   "execution_count": 9,
   "id": "5fdc0e54",
   "metadata": {},
   "outputs": [
    {
     "name": "stdout",
     "output_type": "stream",
     "text": [
      "592 µs ± 16 µs per loop (mean ± std. dev. of 10 runs, 100 loops each)\n"
     ]
    }
   ],
   "source": [
    "%timeit -n 100 -r 10 fpgrowth(df, min_support=0.5)"
   ]
  },
  {
   "cell_type": "code",
   "execution_count": null,
   "id": "defa9b13",
   "metadata": {},
   "outputs": [],
   "source": []
  },
  {
   "cell_type": "code",
   "execution_count": null,
   "id": "3bbccf5e",
   "metadata": {},
   "outputs": [],
   "source": []
  }
 ],
 "metadata": {
  "kernelspec": {
   "display_name": "Python 3 (ipykernel)",
   "language": "python",
   "name": "python3"
  },
  "language_info": {
   "codemirror_mode": {
    "name": "ipython",
    "version": 3
   },
   "file_extension": ".py",
   "mimetype": "text/x-python",
   "name": "python",
   "nbconvert_exporter": "python",
   "pygments_lexer": "ipython3",
   "version": "3.8.15"
  }
 },
 "nbformat": 4,
 "nbformat_minor": 5
}
